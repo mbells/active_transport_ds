{
 "cells": [
  {
   "cell_type": "markdown",
   "id": "47764568-24e8-4f9c-af55-fce89cb3f422",
   "metadata": {},
   "source": [
    "# Transform data into more manageable format"
   ]
  },
  {
   "cell_type": "code",
   "execution_count": 1,
   "id": "181e909b-1286-4123-9b59-59bf08c323fa",
   "metadata": {},
   "outputs": [],
   "source": [
    "import numpy as np\n",
    "import pandas as pd\n",
    "import pyarrow as pa\n",
    "import sys\n",
    "\n",
    "from pathlib import Path\n",
    "\n",
    "import pathhelper"
   ]
  },
  {
   "cell_type": "code",
   "execution_count": 2,
   "id": "63f0642a-a809-46ac-9045-5ab0c95bd56d",
   "metadata": {},
   "outputs": [
    {
     "name": "stdout",
     "output_type": "stream",
     "text": [
      "Python: 3.11.10 | packaged by conda-forge | (main, Sep 30 2024, 18:08:57) [GCC 13.3.0]\n",
      "Pandas: 2.2.3\n"
     ]
    }
   ],
   "source": [
    "print(\"Python: \" + sys.version)\n",
    "print(\"Pandas: \" + pd.__version__)"
   ]
  },
  {
   "cell_type": "markdown",
   "id": "e8436a84-effa-4a8c-bea2-5ede2395bebe",
   "metadata": {},
   "source": [
    "# Use Pyarrow"
   ]
  },
  {
   "cell_type": "code",
   "execution_count": 13,
   "id": "8546081b-3329-43d9-8540-e2f262646dfa",
   "metadata": {},
   "outputs": [],
   "source": [
    "data_dir = pathhelper.data_dir(\".\")\n",
    "filename = data_dir / \"pedestrians_cyclists/Trails_Counters_Pedestrians_Cyclists.csv\"\n",
    "\n",
    "at_uses_df = pd.read_csv(filename, engine=\"pyarrow\")\n",
    "at_uses_df.columns = at_uses_df.columns.str.lower()"
   ]
  },
  {
   "cell_type": "code",
   "execution_count": 4,
   "id": "f911a0ed-aed7-4d7f-bde2-f9c6c9f7af3b",
   "metadata": {},
   "outputs": [
    {
     "data": {
      "text/plain": [
       "Index(['', 'datetime', 'count', 'site_name', 'site_id', 'flow_id', 'flow_name',\n",
       "       'user_type', 'direction', 'year', 'month', 'day', 'hour', 'minute'],\n",
       "      dtype='object')"
      ]
     },
     "execution_count": 4,
     "metadata": {},
     "output_type": "execute_result"
    }
   ],
   "source": [
    "at_uses_df.columns"
   ]
  },
  {
   "cell_type": "code",
   "execution_count": 5,
   "id": "e34485c9-29d4-4b62-9db7-6b6ab96f9ba5",
   "metadata": {},
   "outputs": [],
   "source": [
    "#at_uses_df[\"count\"] = at_uses_df[\"count\"].fillna(0)\n",
    "\n",
    "at_uses_df.drop(\"\", axis=1, inplace=True)\n",
    "at_uses_df.drop(\"datetime\", axis=1, inplace=True)"
   ]
  },
  {
   "cell_type": "code",
   "execution_count": 22,
   "id": "7bf49c1b-6fea-45d7-9eff-f6fe8a82b377",
   "metadata": {},
   "outputs": [],
   "source": [
    "# Narrowing columns\n",
    "def narrow(df, column, type):\n",
    "    if df[column].max() > np.iinfo(np.int16).max:\n",
    "        raise OverflowError()\n",
    "    return df[column].astype(type)\n",
    "\n",
    "\n",
    "at_uses_df[\"count\"] = narrow(at_uses_df, \"count\", \"Int16\")  # Nullable\n",
    "at_uses_df[\"year\"] = narrow(at_uses_df, \"year\", \"int16\")\n",
    "at_uses_df[\"month\"] = narrow(at_uses_df, \"month\", \"int8\")\n",
    "at_uses_df[\"day\"] = narrow(at_uses_df, \"day\", \"int8\")\n",
    "at_uses_df[\"hour\"] = narrow(at_uses_df, \"hour\", \"int8\")\n",
    "at_uses_df[\"minute\"] = narrow(at_uses_df, \"minute\", \"int8\")\n",
    "\n",
    "#at_uses_df[\"site_name\"] = at_uses_df[\"site_name\"].astype(\"category\")\n",
    "#at_uses_df[\"site_id\"] = at_uses_df[\"site_id\"].astype(\"category\")\n",
    "#at_uses_df[\"flow_id\"] = at_uses_df[\"flow_id\"].astype(\"category\")\n",
    "#at_uses_df[\"flow_name\"] = at_uses_df[\"flow_name\"].astype(\"category\")\n",
    "#at_uses_df[\"user_type\"] = at_uses_df[\"user_type\"].astype(\"category\")\n",
    "#at_uses_df[\"direction\"] = at_uses_df[\"direction\"].astype(\"category\")"
   ]
  },
  {
   "cell_type": "code",
   "execution_count": 23,
   "id": "16d00299-8d16-4f33-bb70-bc5c2d33d5af",
   "metadata": {},
   "outputs": [
    {
     "data": {
      "text/plain": [
       "count         Int16\n",
       "site_name    object\n",
       "site_id       int64\n",
       "flow_id       int64\n",
       "flow_name    object\n",
       "user_type    object\n",
       "direction    object\n",
       "year          int16\n",
       "month          int8\n",
       "day            int8\n",
       "hour           int8\n",
       "minute         int8\n",
       "dtype: object"
      ]
     },
     "execution_count": 23,
     "metadata": {},
     "output_type": "execute_result"
    }
   ],
   "source": [
    "at_uses_df.dtypes"
   ]
  },
  {
   "cell_type": "code",
   "execution_count": 24,
   "id": "5b29cd8b-1e8c-48b8-bbd5-78113b98a815",
   "metadata": {},
   "outputs": [
    {
     "name": "stdout",
     "output_type": "stream",
     "text": [
      "Index               132\n",
      "count          37338048\n",
      "site_name    1030740480\n",
      "site_id        99568128\n",
      "flow_id        99568128\n",
      "flow_name    1057911360\n",
      "user_type     807062784\n",
      "direction     744482112\n",
      "year           24892032\n",
      "month          12446016\n",
      "day            12446016\n",
      "hour           12446016\n",
      "minute         12446016\n",
      "dtype: int64\n",
      "-------------------------\n",
      "3951 MB\n"
     ]
    }
   ],
   "source": [
    "mem = at_uses_df.memory_usage(deep=True)\n",
    "print(mem)\n",
    "print(\"-\"*25)\n",
    "print(f\"{int(mem.sum() / 1000000)} MB\")"
   ]
  },
  {
   "cell_type": "code",
   "execution_count": 25,
   "id": "eccc45a1-4ea0-4e15-bad7-9a3a86f2f94b",
   "metadata": {},
   "outputs": [],
   "source": [
    "hourly_df = at_uses_df.groupby(by=[\"site_name\", \"site_id\", \"flow_id\", \"flow_name\", \"user_type\", \"direction\", \"year\", \"month\", \"day\", \"hour\"])[\"count\"].sum()\n",
    "hourly_df = hourly_df.reset_index()"
   ]
  },
  {
   "cell_type": "code",
   "execution_count": 26,
   "id": "89111881-45bc-40c6-94cc-02b063a8e9b1",
   "metadata": {},
   "outputs": [],
   "source": [
    "hourly_df[\"dayofweek\"] = pd.to_datetime(hourly_df[['year', 'month', 'day']]).dt.dayofweek\n",
    "hourly_df[\"week\"] = pd.to_datetime(hourly_df[['year', 'month', 'day']]).dt.isocalendar().week"
   ]
  },
  {
   "cell_type": "code",
   "execution_count": 27,
   "id": "c8fb3b2b-eb78-4cfb-8eb8-d4ba4408e1cf",
   "metadata": {},
   "outputs": [],
   "source": [
    "filename = data_dir / \"pedestrians_cyclists/Trails_Counters_Pedestrians_Cyclists-hourly-narrow\"\n",
    "hourly_df.to_csv(filename.with_suffix('.csv'))\n",
    "hourly_df.to_feather(filename.with_suffix('.feather'))"
   ]
  }
 ],
 "metadata": {
  "kernelspec": {
   "display_name": "Python 3 (ipykernel)",
   "language": "python",
   "name": "python3"
  },
  "language_info": {
   "codemirror_mode": {
    "name": "ipython",
    "version": 3
   },
   "file_extension": ".py",
   "mimetype": "text/x-python",
   "name": "python",
   "nbconvert_exporter": "python",
   "pygments_lexer": "ipython3",
   "version": "3.11.10"
  }
 },
 "nbformat": 4,
 "nbformat_minor": 5
}
