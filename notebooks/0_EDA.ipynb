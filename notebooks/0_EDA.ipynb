{
 "cells": [
  {
   "cell_type": "markdown",
   "id": "b2751aef-4539-4cce-9b3a-4e1c728a6f2d",
   "metadata": {},
   "source": [
    "# Exploratory Data Analysis\n",
    "\n",
    "Of the [Trails_Counters_Pedestrians_Cyclists dataset](https://www.arcgis.com/home/item.html?id=fe6b24fd18d046c8a126b8ddd24120c0).\n"
   ]
  },
  {
   "cell_type": "code",
   "execution_count": 33,
   "id": "181e909b-1286-4123-9b59-59bf08c323fa",
   "metadata": {},
   "outputs": [],
   "source": [
    "import numpy as np\n",
    "import pandas as pd\n",
    "import pyarrow as pa\n",
    "import sys\n",
    "\n",
    "from pathlib import Path\n",
    "\n",
    "import pathhelper"
   ]
  },
  {
   "cell_type": "code",
   "execution_count": 3,
   "id": "63f0642a-a809-46ac-9045-5ab0c95bd56d",
   "metadata": {},
   "outputs": [
    {
     "name": "stdout",
     "output_type": "stream",
     "text": [
      "Python: 3.11.10 | packaged by conda-forge | (main, Sep 30 2024, 18:08:57) [GCC 13.3.0]\n",
      "Pandas: 2.2.3\n"
     ]
    }
   ],
   "source": [
    "print(\"Python: \" + sys.version)\n",
    "print(\"Pandas: \" + pd.__version__)"
   ]
  },
  {
   "cell_type": "code",
   "execution_count": 6,
   "id": "65594b0d-e454-4e63-9179-d2517c5d44d3",
   "metadata": {},
   "outputs": [],
   "source": [
    "data_dir = pathhelper.data_dir(\".\")\n",
    "filename = data_dir / \"pedestrians_cyclists/Trails_Counters_Pedestrians_Cyclists.csv\"\n",
    "\n",
    "#at_uses_df = pd.read_csv(filename)\n",
    "#at_uses_df.columns = at_uses_df.columns.str.lower()"
   ]
  },
  {
   "cell_type": "code",
   "execution_count": 7,
   "id": "8546081b-3329-43d9-8540-e2f262646dfa",
   "metadata": {},
   "outputs": [],
   "source": [
    "at_uses_dfa = pd.read_csv(filename, engine=\"pyarrow\")\n",
    "at_uses_dfa.columns = at_uses_dfa.columns.str.lower()"
   ]
  },
  {
   "cell_type": "markdown",
   "id": "47764568-24e8-4f9c-af55-fce89cb3f422",
   "metadata": {},
   "source": [
    "12M rows"
   ]
  },
  {
   "cell_type": "code",
   "execution_count": 4,
   "id": "a05b7b9d-62e1-4a2d-9603-89f518484fb7",
   "metadata": {},
   "outputs": [],
   "source": [
    "head = at_uses_df[0:1000]"
   ]
  },
  {
   "cell_type": "code",
   "execution_count": 5,
   "id": "bdfc40a4-e712-415f-a1f8-424f9ef08d71",
   "metadata": {},
   "outputs": [
    {
     "data": {
      "text/html": [
       "<div>\n",
       "<style scoped>\n",
       "    .dataframe tbody tr th:only-of-type {\n",
       "        vertical-align: middle;\n",
       "    }\n",
       "\n",
       "    .dataframe tbody tr th {\n",
       "        vertical-align: top;\n",
       "    }\n",
       "\n",
       "    .dataframe thead th {\n",
       "        text-align: right;\n",
       "    }\n",
       "</style>\n",
       "<table border=\"1\" class=\"dataframe\">\n",
       "  <thead>\n",
       "    <tr style=\"text-align: right;\">\n",
       "      <th></th>\n",
       "      <th>unnamed: 0</th>\n",
       "      <th>count</th>\n",
       "      <th>site_id</th>\n",
       "      <th>flow_id</th>\n",
       "      <th>year</th>\n",
       "      <th>month</th>\n",
       "      <th>day</th>\n",
       "      <th>hour</th>\n",
       "      <th>minute</th>\n",
       "    </tr>\n",
       "  </thead>\n",
       "  <tbody>\n",
       "    <tr>\n",
       "      <th>count</th>\n",
       "      <td>1000.000000</td>\n",
       "      <td>1000.000000</td>\n",
       "      <td>1000.0</td>\n",
       "      <td>1000.0</td>\n",
       "      <td>1000.0</td>\n",
       "      <td>1000.0</td>\n",
       "      <td>1000.000000</td>\n",
       "      <td>1000.000000</td>\n",
       "      <td>1000.000000</td>\n",
       "    </tr>\n",
       "    <tr>\n",
       "      <th>mean</th>\n",
       "      <td>500.500000</td>\n",
       "      <td>0.970000</td>\n",
       "      <td>100015729.0</td>\n",
       "      <td>101015729.0</td>\n",
       "      <td>2018.0</td>\n",
       "      <td>1.0</td>\n",
       "      <td>5.720000</td>\n",
       "      <td>11.220000</td>\n",
       "      <td>22.500000</td>\n",
       "    </tr>\n",
       "    <tr>\n",
       "      <th>std</th>\n",
       "      <td>288.819436</td>\n",
       "      <td>1.305682</td>\n",
       "      <td>0.0</td>\n",
       "      <td>0.0</td>\n",
       "      <td>0.0</td>\n",
       "      <td>0.0</td>\n",
       "      <td>3.015077</td>\n",
       "      <td>6.946932</td>\n",
       "      <td>16.778901</td>\n",
       "    </tr>\n",
       "    <tr>\n",
       "      <th>min</th>\n",
       "      <td>1.000000</td>\n",
       "      <td>0.000000</td>\n",
       "      <td>100015729.0</td>\n",
       "      <td>101015729.0</td>\n",
       "      <td>2018.0</td>\n",
       "      <td>1.0</td>\n",
       "      <td>1.000000</td>\n",
       "      <td>0.000000</td>\n",
       "      <td>0.000000</td>\n",
       "    </tr>\n",
       "    <tr>\n",
       "      <th>25%</th>\n",
       "      <td>250.750000</td>\n",
       "      <td>0.000000</td>\n",
       "      <td>100015729.0</td>\n",
       "      <td>101015729.0</td>\n",
       "      <td>2018.0</td>\n",
       "      <td>1.0</td>\n",
       "      <td>3.000000</td>\n",
       "      <td>5.000000</td>\n",
       "      <td>11.250000</td>\n",
       "    </tr>\n",
       "    <tr>\n",
       "      <th>50%</th>\n",
       "      <td>500.500000</td>\n",
       "      <td>0.000000</td>\n",
       "      <td>100015729.0</td>\n",
       "      <td>101015729.0</td>\n",
       "      <td>2018.0</td>\n",
       "      <td>1.0</td>\n",
       "      <td>6.000000</td>\n",
       "      <td>11.000000</td>\n",
       "      <td>22.500000</td>\n",
       "    </tr>\n",
       "    <tr>\n",
       "      <th>75%</th>\n",
       "      <td>750.250000</td>\n",
       "      <td>2.000000</td>\n",
       "      <td>100015729.0</td>\n",
       "      <td>101015729.0</td>\n",
       "      <td>2018.0</td>\n",
       "      <td>1.0</td>\n",
       "      <td>8.000000</td>\n",
       "      <td>17.000000</td>\n",
       "      <td>33.750000</td>\n",
       "    </tr>\n",
       "    <tr>\n",
       "      <th>max</th>\n",
       "      <td>1000.000000</td>\n",
       "      <td>7.000000</td>\n",
       "      <td>100015729.0</td>\n",
       "      <td>101015729.0</td>\n",
       "      <td>2018.0</td>\n",
       "      <td>1.0</td>\n",
       "      <td>11.000000</td>\n",
       "      <td>23.000000</td>\n",
       "      <td>45.000000</td>\n",
       "    </tr>\n",
       "  </tbody>\n",
       "</table>\n",
       "</div>"
      ],
      "text/plain": [
       "        unnamed: 0        count      site_id      flow_id    year   month  \\\n",
       "count  1000.000000  1000.000000       1000.0       1000.0  1000.0  1000.0   \n",
       "mean    500.500000     0.970000  100015729.0  101015729.0  2018.0     1.0   \n",
       "std     288.819436     1.305682          0.0          0.0     0.0     0.0   \n",
       "min       1.000000     0.000000  100015729.0  101015729.0  2018.0     1.0   \n",
       "25%     250.750000     0.000000  100015729.0  101015729.0  2018.0     1.0   \n",
       "50%     500.500000     0.000000  100015729.0  101015729.0  2018.0     1.0   \n",
       "75%     750.250000     2.000000  100015729.0  101015729.0  2018.0     1.0   \n",
       "max    1000.000000     7.000000  100015729.0  101015729.0  2018.0     1.0   \n",
       "\n",
       "               day         hour       minute  \n",
       "count  1000.000000  1000.000000  1000.000000  \n",
       "mean      5.720000    11.220000    22.500000  \n",
       "std       3.015077     6.946932    16.778901  \n",
       "min       1.000000     0.000000     0.000000  \n",
       "25%       3.000000     5.000000    11.250000  \n",
       "50%       6.000000    11.000000    22.500000  \n",
       "75%       8.000000    17.000000    33.750000  \n",
       "max      11.000000    23.000000    45.000000  "
      ]
     },
     "execution_count": 5,
     "metadata": {},
     "output_type": "execute_result"
    }
   ],
   "source": [
    "head.describe()"
   ]
  },
  {
   "cell_type": "code",
   "execution_count": 6,
   "id": "9665ea26-20d8-40ef-b071-6a5dd8fdeec9",
   "metadata": {},
   "outputs": [
    {
     "data": {
      "text/plain": [
       "unnamed: 0      int64\n",
       "datetime       object\n",
       "count         float64\n",
       "site_name      object\n",
       "site_id         int64\n",
       "flow_id         int64\n",
       "flow_name      object\n",
       "user_type      object\n",
       "direction      object\n",
       "year            int64\n",
       "month           int64\n",
       "day             int64\n",
       "hour            int64\n",
       "minute          int64\n",
       "dtype: object"
      ]
     },
     "execution_count": 6,
     "metadata": {},
     "output_type": "execute_result"
    }
   ],
   "source": [
    "at_uses_df.dtypes"
   ]
  },
  {
   "cell_type": "code",
   "execution_count": 7,
   "id": "23cc8f30-ec6c-4f21-954a-7c7ce986a947",
   "metadata": {},
   "outputs": [
    {
     "name": "stdout",
     "output_type": "stream",
     "text": [
      "Index                132\n",
      "unnamed: 0      99568128\n",
      "datetime       945897216\n",
      "count           99568128\n",
      "site_name     1030740480\n",
      "site_id         99568128\n",
      "flow_id         99568128\n",
      "flow_name     1057911360\n",
      "user_type      807062784\n",
      "direction      744482112\n",
      "year            99568128\n",
      "month           99568128\n",
      "day             99568128\n",
      "hour            99568128\n",
      "minute          99568128\n",
      "dtype: int64\n",
      "-------------------------\n",
      "5482 MB\n"
     ]
    }
   ],
   "source": [
    "mem = at_uses_df.memory_usage(deep=True)\n",
    "print(mem)\n",
    "print(\"-\"*25)\n",
    "print(f\"{int(mem.sum() / 1000000)} MB\")"
   ]
  },
  {
   "cell_type": "code",
   "execution_count": 8,
   "id": "134c0184-2780-4215-adb0-c3a13b58cbc2",
   "metadata": {},
   "outputs": [
    {
     "name": "stdout",
     "output_type": "stream",
     "text": [
      "Index               132\n",
      "               99568128\n",
      "datetime       99568128\n",
      "count          99568128\n",
      "site_name    1030740480\n",
      "site_id        99568128\n",
      "flow_id        99568128\n",
      "flow_name    1057911360\n",
      "user_type     807062784\n",
      "direction     744482112\n",
      "year           99568128\n",
      "month          99568128\n",
      "day            99568128\n",
      "hour           99568128\n",
      "minute         99568128\n",
      "dtype: int64\n",
      "-------------------------\n",
      "4635 MB\n"
     ]
    }
   ],
   "source": [
    "mem = at_uses_dfa.memory_usage(deep=True)\n",
    "print(mem)\n",
    "print(\"-\"*25)\n",
    "print(f\"{int(mem.sum() / 1000000)} MB\")"
   ]
  },
  {
   "cell_type": "code",
   "execution_count": 8,
   "id": "58df21a3-ea9d-4357-a913-02c298e81229",
   "metadata": {},
   "outputs": [
    {
     "data": {
      "text/plain": [
       "unnamed: 0    False\n",
       "datetime      False\n",
       "count          True\n",
       "site_name     False\n",
       "site_id       False\n",
       "flow_id       False\n",
       "flow_name     False\n",
       "user_type     False\n",
       "direction     False\n",
       "year          False\n",
       "month         False\n",
       "day           False\n",
       "hour          False\n",
       "minute        False\n",
       "dtype: bool"
      ]
     },
     "execution_count": 8,
     "metadata": {},
     "output_type": "execute_result"
    }
   ],
   "source": [
    "at_uses_df.isnull().any()"
   ]
  },
  {
   "cell_type": "code",
   "execution_count": 9,
   "id": "dedfaaad-7a00-405d-a9a6-a593db924ffc",
   "metadata": {},
   "outputs": [
    {
     "data": {
      "text/plain": [
       "array(['Pedestrian', 'Cyclist', 'Undefined', 'Debug', 'E-Scooter'],\n",
       "      dtype=object)"
      ]
     },
     "execution_count": 9,
     "metadata": {},
     "output_type": "execute_result"
    }
   ],
   "source": [
    "at_uses_df[\"user_type\"].unique()"
   ]
  },
  {
   "cell_type": "code",
   "execution_count": 10,
   "id": "6fc23ed7-5004-4144-a7e7-f2403277003c",
   "metadata": {},
   "outputs": [
    {
     "data": {
      "text/plain": [
       "array(['IN', 'OUT', 'Nondirectional'], dtype=object)"
      ]
     },
     "execution_count": 10,
     "metadata": {},
     "output_type": "execute_result"
    }
   ],
   "source": [
    "at_uses_df[\"direction\"].unique()"
   ]
  },
  {
   "cell_type": "code",
   "execution_count": 11,
   "id": "ef961344-15f5-441a-b57f-96c70d1566f1",
   "metadata": {},
   "outputs": [
    {
     "data": {
      "text/plain": [
       "array(['Iron Horse Trail - Cherry Street',\n",
       "       'Iron Horse Trail - Borden Street',\n",
       "       'Iron Horse Trail - Queen Street', 'Z - Temporary Radar 1',\n",
       "       'Z - Temporary Radar 2', 'Z - Portable Tube Counter 4606',\n",
       "       'Trans-Canada Trail - Courtland Ave @ Hayward',\n",
       "       'Trans Canada Trail - Courtland @ on ramp', 'Budd Park',\n",
       "       'Mill to Grenville', 'Wilson Ave',\n",
       "       'Joseph Street @ Victoria (DCN)',\n",
       "       'Water Street @ King Street (DCN)', 'Transit Hub Trail',\n",
       "       'Z - Portable Tube Counter 4605', 'Cedar St @ King St (DCN)',\n",
       "       'Ontario St @ King St (DCN)', 'Margaret Ave at Maynard Ave'],\n",
       "      dtype=object)"
      ]
     },
     "execution_count": 11,
     "metadata": {},
     "output_type": "execute_result"
    }
   ],
   "source": [
    "at_uses_df[\"site_name\"].unique()"
   ]
  },
  {
   "cell_type": "code",
   "execution_count": 12,
   "id": "cc9e25c6-b264-4e30-8212-b69e907afa75",
   "metadata": {},
   "outputs": [
    {
     "data": {
      "text/plain": [
       "array([100015729, 100021131, 100021132, 100041772, 100041773, 100044091,\n",
       "       100048457, 100048458, 100064212, 300020371, 300021993, 300026503,\n",
       "       300027683, 300028392, 300028418, 300029847, 300029848, 300036104])"
      ]
     },
     "execution_count": 12,
     "metadata": {},
     "output_type": "execute_result"
    }
   ],
   "source": [
    "at_uses_df[\"site_id\"].unique()"
   ]
  },
  {
   "cell_type": "code",
   "execution_count": 13,
   "id": "d113b5a5-0cb6-4884-9814-50f12c3a4604",
   "metadata": {},
   "outputs": [
    {
     "data": {
      "text/plain": [
       "array(['Cherry Street_IN', 'Cherry Street_OUT', 'Borden St _IN',\n",
       "       'Borden St _OUT', 'Queen St _South', 'Queen St _North',\n",
       "       'Channel 1 IN', 'Channel 2 OUT', 'Channel 3 IN', 'Channel 4 OUT',\n",
       "       'Trans Canada Trail - Courtland @ on ramp Cyclist IN',\n",
       "       'Trans Canada Trail - Courtland @ on ramp Cyclist OUT',\n",
       "       'Mill to Grenville IN', 'Mill to Grenville Cyclist IN',\n",
       "       'Mill to Grenville Cyclist OUT', 'Mill to Grenville Pedestrian IN',\n",
       "       'Mill to Grenville Pedestrian OUT', 'Wilson Ave Pedestrian IN',\n",
       "       'Wilson Ave Pedestrian OUT', 'Wilson Ave Cyclist IN',\n",
       "       'Wilson Ave Cyclist OUT',\n",
       "       'Joseph Street @ Victoria (DCN) Cyclist IN',\n",
       "       'Joseph Street @ Victoria (DCN) Cyclist OUT',\n",
       "       'Joseph Street @ Victoria (DCN) Debug',\n",
       "       'Joseph Street @ Victoria (DCN) Pedestrian IN',\n",
       "       'Joseph Street @ Victoria (DCN) Pedestrian OUT',\n",
       "       'Water Street @ King Street (DCN) Debug',\n",
       "       'Water Street @ King Street (DCN) Cyclist IN',\n",
       "       'Water Street @ King Street (DCN) Cyclist OUT',\n",
       "       'Transit Hub Trail Cyclist IN', 'Transit Hub Trail Cyclist OUT',\n",
       "       'Transit Hub Trail Pedestrian IN',\n",
       "       'Transit Hub Trail Pedestrian OUT', 'Counter1 [Bike IN]',\n",
       "       'Counter1 [Bike OUT]', 'Cedar St @ King St (DCN) Cyclist IN',\n",
       "       'Cedar St @ King St (DCN) Cyclist OUT',\n",
       "       'Ontario St @ King St (DCN) Cyclist IN',\n",
       "       'Ontario St @ King St (DCN) Cyclist OUT',\n",
       "       'Margaret Ave at Maynard Ave [Bike Westbound]',\n",
       "       'Margaret Ave at Maynard Ave [Bike Eastbound]',\n",
       "       'Margaret Ave at Maynard Ave [E-Scooter IN]',\n",
       "       'Margaret Ave at Maynard Ave [E-Scooter OUT]'], dtype=object)"
      ]
     },
     "execution_count": 13,
     "metadata": {},
     "output_type": "execute_result"
    }
   ],
   "source": [
    "at_uses_df[\"flow_name\"].unique()"
   ]
  },
  {
   "cell_type": "code",
   "execution_count": 14,
   "id": "fbe7648c-1afe-44b1-b92f-c8caeeda4494",
   "metadata": {},
   "outputs": [
    {
     "name": "stdout",
     "output_type": "stream",
     "text": [
      "True\n",
      "True\n",
      "False\n"
     ]
    }
   ],
   "source": [
    "def check_mapping(df, col1, col2):\n",
    "    set_values = df[col1].unique()\n",
    "    for s in set_values:\n",
    "        if len(df[df[col1] == s][col2].unique()) != 1:\n",
    "            return False\n",
    "    return True\n",
    "\n",
    "print(check_mapping(at_uses_df, \"site_id\", \"site_name\"))\n",
    "print(check_mapping(at_uses_df, \"flow_id\", \"flow_name\"))\n",
    "print(check_mapping(at_uses_df, \"site_id\", \"flow_name\"))  # Expect False"
   ]
  },
  {
   "cell_type": "code",
   "execution_count": 17,
   "id": "196e0e73-d0b4-4256-9daf-6ac9c3eb67a7",
   "metadata": {},
   "outputs": [],
   "source": [
    "# Narrowing columns\n",
    "def narrow(df, column, type):\n",
    "    if df[column].max() > np.iinfo(np.int16).max:\n",
    "        raise OverflowError()\n",
    "    return df[column].astype(type)\n",
    "\n",
    "at_uses_df.drop(\"unnamed: 0\", axis=1, inplace=True)\n",
    "\n",
    "at_uses_df[\"count\"] = narrow(at_uses_df, \"count\", \"Int16\")  # Nullable\n",
    "at_uses_df[\"year\"] = narrow(at_uses_df, \"year\", \"int16\")\n",
    "at_uses_df[\"month\"] = narrow(at_uses_df, \"month\", \"int8\")\n",
    "at_uses_df[\"day\"] = narrow(at_uses_df, \"day\", \"int8\")\n",
    "at_uses_df[\"hour\"] = narrow(at_uses_df, \"hour\", \"int8\")\n",
    "at_uses_df[\"minute\"] = narrow(at_uses_df, \"minute\", \"int8\")\n",
    "\n",
    "at_uses_df[\"site_name\"] = at_uses_df[\"site_name\"].astype(\"category\")\n",
    "at_uses_df[\"site_id\"] = at_uses_df[\"site_id\"].astype(\"category\")\n",
    "at_uses_df[\"flow_id\"] = at_uses_df[\"flow_id\"].astype(\"category\")\n",
    "at_uses_df[\"flow_name\"] = at_uses_df[\"flow_name\"].astype(\"category\")\n",
    "at_uses_df[\"user_type\"] = at_uses_df[\"user_type\"].astype(\"category\")\n",
    "at_uses_df[\"direction\"] = at_uses_df[\"direction\"].astype(\"category\")"
   ]
  },
  {
   "cell_type": "code",
   "execution_count": 18,
   "id": "39fa06e8-215e-4a0c-b134-e47bbda8ce42",
   "metadata": {},
   "outputs": [],
   "source": [
    "#from pandas.api.types import CategoricalDtype\n",
    "#direction_type = CategoricalDtype([\"IN\", \"OUT\", \"Nondirectional\"], ordered=False)"
   ]
  },
  {
   "cell_type": "code",
   "execution_count": 19,
   "id": "7e1f2212-caa7-4371-ac57-4a3c0e1ee80f",
   "metadata": {},
   "outputs": [
    {
     "name": "stdout",
     "output_type": "stream",
     "text": [
      "Index              132\n",
      "datetime     945897216\n",
      "count         37338048\n",
      "site_name     12448071\n",
      "site_id       12446716\n",
      "flow_id       12448688\n",
      "flow_name     12450823\n",
      "user_type     12446513\n",
      "direction     12446314\n",
      "year          24892032\n",
      "month         12446016\n",
      "day           12446016\n",
      "hour          12446016\n",
      "minute        12446016\n",
      "dtype: int64\n",
      "-------------------------\n",
      "1132 MB\n"
     ]
    }
   ],
   "source": [
    "mem = at_uses_df.memory_usage(deep=True)\n",
    "print(mem)\n",
    "print(\"-\"*25)\n",
    "print(f\"{int(mem.sum() / 1000000)} MB\")"
   ]
  },
  {
   "cell_type": "markdown",
   "id": "f7ce3d7d-d6d5-4d3e-b211-62aebe24a136",
   "metadata": {},
   "source": [
    "# Try to bin to 1 hour then save with Pandas"
   ]
  },
  {
   "cell_type": "code",
   "execution_count": 23,
   "id": "f75ebbfa-bec1-4030-82f7-9589d1cb2ce9",
   "metadata": {},
   "outputs": [
    {
     "name": "stderr",
     "output_type": "stream",
     "text": [
      "/tmp/ipykernel_16300/1148577904.py:3: FutureWarning: The default of observed=False is deprecated and will be changed to True in a future version of pandas. Pass observed=False to retain current behavior or observed=True to adopt the future default and silence this warning.\n",
      "  daily_df = at_uses_df_filled.groupby(by=[\"site_name\", \"site_id\", \"flow_id\", \"flow_name\", \"user_type\", \"direction\", \"year\", \"month\", \"day\"]).sum()\n"
     ]
    },
    {
     "ename": "MemoryError",
     "evalue": "Unable to allocate 25.7 GiB for an array with shape (27597898800,) and data type int8",
     "output_type": "error",
     "traceback": [
      "\u001b[0;31m---------------------------------------------------------------------------\u001b[0m",
      "\u001b[0;31mMemoryError\u001b[0m                               Traceback (most recent call last)",
      "Cell \u001b[0;32mIn[23], line 3\u001b[0m\n\u001b[1;32m      1\u001b[0m at_uses_df_filled \u001b[38;5;241m=\u001b[39m at_uses_df\u001b[38;5;241m.\u001b[39mcopy()\n\u001b[1;32m      2\u001b[0m at_uses_df_filled[\u001b[38;5;124m\"\u001b[39m\u001b[38;5;124mcount\u001b[39m\u001b[38;5;124m\"\u001b[39m] \u001b[38;5;241m=\u001b[39m at_uses_df[\u001b[38;5;124m\"\u001b[39m\u001b[38;5;124mcount\u001b[39m\u001b[38;5;124m\"\u001b[39m]\u001b[38;5;241m.\u001b[39mfillna(\u001b[38;5;241m0\u001b[39m)\n\u001b[0;32m----> 3\u001b[0m daily_df \u001b[38;5;241m=\u001b[39m \u001b[43mat_uses_df_filled\u001b[49m\u001b[38;5;241;43m.\u001b[39;49m\u001b[43mgroupby\u001b[49m\u001b[43m(\u001b[49m\u001b[43mby\u001b[49m\u001b[38;5;241;43m=\u001b[39;49m\u001b[43m[\u001b[49m\u001b[38;5;124;43m\"\u001b[39;49m\u001b[38;5;124;43msite_name\u001b[39;49m\u001b[38;5;124;43m\"\u001b[39;49m\u001b[43m,\u001b[49m\u001b[43m \u001b[49m\u001b[38;5;124;43m\"\u001b[39;49m\u001b[38;5;124;43msite_id\u001b[39;49m\u001b[38;5;124;43m\"\u001b[39;49m\u001b[43m,\u001b[49m\u001b[43m \u001b[49m\u001b[38;5;124;43m\"\u001b[39;49m\u001b[38;5;124;43mflow_id\u001b[39;49m\u001b[38;5;124;43m\"\u001b[39;49m\u001b[43m,\u001b[49m\u001b[43m \u001b[49m\u001b[38;5;124;43m\"\u001b[39;49m\u001b[38;5;124;43mflow_name\u001b[39;49m\u001b[38;5;124;43m\"\u001b[39;49m\u001b[43m,\u001b[49m\u001b[43m \u001b[49m\u001b[38;5;124;43m\"\u001b[39;49m\u001b[38;5;124;43muser_type\u001b[39;49m\u001b[38;5;124;43m\"\u001b[39;49m\u001b[43m,\u001b[49m\u001b[43m \u001b[49m\u001b[38;5;124;43m\"\u001b[39;49m\u001b[38;5;124;43mdirection\u001b[39;49m\u001b[38;5;124;43m\"\u001b[39;49m\u001b[43m,\u001b[49m\u001b[43m \u001b[49m\u001b[38;5;124;43m\"\u001b[39;49m\u001b[38;5;124;43myear\u001b[39;49m\u001b[38;5;124;43m\"\u001b[39;49m\u001b[43m,\u001b[49m\u001b[43m \u001b[49m\u001b[38;5;124;43m\"\u001b[39;49m\u001b[38;5;124;43mmonth\u001b[39;49m\u001b[38;5;124;43m\"\u001b[39;49m\u001b[43m,\u001b[49m\u001b[43m \u001b[49m\u001b[38;5;124;43m\"\u001b[39;49m\u001b[38;5;124;43mday\u001b[39;49m\u001b[38;5;124;43m\"\u001b[39;49m\u001b[43m]\u001b[49m\u001b[43m)\u001b[49m\u001b[38;5;241;43m.\u001b[39;49m\u001b[43msum\u001b[49m\u001b[43m(\u001b[49m\u001b[43m)\u001b[49m\n",
      "File \u001b[0;32m/opt/conda/lib/python3.11/site-packages/pandas/core/groupby/groupby.py:3153\u001b[0m, in \u001b[0;36mGroupBy.sum\u001b[0;34m(self, numeric_only, min_count, engine, engine_kwargs)\u001b[0m\n\u001b[1;32m   3145\u001b[0m \u001b[38;5;28;01mwith\u001b[39;00m com\u001b[38;5;241m.\u001b[39mtemp_setattr(\u001b[38;5;28mself\u001b[39m, \u001b[38;5;124m\"\u001b[39m\u001b[38;5;124mobserved\u001b[39m\u001b[38;5;124m\"\u001b[39m, \u001b[38;5;28;01mTrue\u001b[39;00m):\n\u001b[1;32m   3146\u001b[0m     result \u001b[38;5;241m=\u001b[39m \u001b[38;5;28mself\u001b[39m\u001b[38;5;241m.\u001b[39m_agg_general(\n\u001b[1;32m   3147\u001b[0m         numeric_only\u001b[38;5;241m=\u001b[39mnumeric_only,\n\u001b[1;32m   3148\u001b[0m         min_count\u001b[38;5;241m=\u001b[39mmin_count,\n\u001b[1;32m   3149\u001b[0m         alias\u001b[38;5;241m=\u001b[39m\u001b[38;5;124m\"\u001b[39m\u001b[38;5;124msum\u001b[39m\u001b[38;5;124m\"\u001b[39m,\n\u001b[1;32m   3150\u001b[0m         npfunc\u001b[38;5;241m=\u001b[39mnp\u001b[38;5;241m.\u001b[39msum,\n\u001b[1;32m   3151\u001b[0m     )\n\u001b[0;32m-> 3153\u001b[0m \u001b[38;5;28;01mreturn\u001b[39;00m \u001b[38;5;28;43mself\u001b[39;49m\u001b[38;5;241;43m.\u001b[39;49m\u001b[43m_reindex_output\u001b[49m\u001b[43m(\u001b[49m\u001b[43mresult\u001b[49m\u001b[43m,\u001b[49m\u001b[43m \u001b[49m\u001b[43mfill_value\u001b[49m\u001b[38;5;241;43m=\u001b[39;49m\u001b[38;5;241;43m0\u001b[39;49m\u001b[43m)\u001b[49m\n",
      "File \u001b[0;32m/opt/conda/lib/python3.11/site-packages/pandas/core/groupby/groupby.py:5620\u001b[0m, in \u001b[0;36mGroupBy._reindex_output\u001b[0;34m(self, output, fill_value, qs)\u001b[0m\n\u001b[1;32m   5618\u001b[0m     levels_list\u001b[38;5;241m.\u001b[39mappend(qs)  \u001b[38;5;66;03m# type: ignore[arg-type]\u001b[39;00m\n\u001b[1;32m   5619\u001b[0m     names \u001b[38;5;241m=\u001b[39m names \u001b[38;5;241m+\u001b[39m [\u001b[38;5;28;01mNone\u001b[39;00m]\n\u001b[0;32m-> 5620\u001b[0m index \u001b[38;5;241m=\u001b[39m \u001b[43mMultiIndex\u001b[49m\u001b[38;5;241;43m.\u001b[39;49m\u001b[43mfrom_product\u001b[49m\u001b[43m(\u001b[49m\u001b[43mlevels_list\u001b[49m\u001b[43m,\u001b[49m\u001b[43m \u001b[49m\u001b[43mnames\u001b[49m\u001b[38;5;241;43m=\u001b[39;49m\u001b[43mnames\u001b[49m\u001b[43m)\u001b[49m\n\u001b[1;32m   5621\u001b[0m \u001b[38;5;28;01mif\u001b[39;00m \u001b[38;5;28mself\u001b[39m\u001b[38;5;241m.\u001b[39msort:\n\u001b[1;32m   5622\u001b[0m     index \u001b[38;5;241m=\u001b[39m index\u001b[38;5;241m.\u001b[39msort_values()\n",
      "File \u001b[0;32m/opt/conda/lib/python3.11/site-packages/pandas/core/indexes/multi.py:684\u001b[0m, in \u001b[0;36mMultiIndex.from_product\u001b[0;34m(cls, iterables, sortorder, names)\u001b[0m\n\u001b[1;32m    681\u001b[0m     names \u001b[38;5;241m=\u001b[39m [\u001b[38;5;28mgetattr\u001b[39m(it, \u001b[38;5;124m\"\u001b[39m\u001b[38;5;124mname\u001b[39m\u001b[38;5;124m\"\u001b[39m, \u001b[38;5;28;01mNone\u001b[39;00m) \u001b[38;5;28;01mfor\u001b[39;00m it \u001b[38;5;129;01min\u001b[39;00m iterables]\n\u001b[1;32m    683\u001b[0m \u001b[38;5;66;03m# codes are all ndarrays, so cartesian_product is lossless\u001b[39;00m\n\u001b[0;32m--> 684\u001b[0m codes \u001b[38;5;241m=\u001b[39m \u001b[43mcartesian_product\u001b[49m\u001b[43m(\u001b[49m\u001b[43mcodes\u001b[49m\u001b[43m)\u001b[49m\n\u001b[1;32m    685\u001b[0m \u001b[38;5;28;01mreturn\u001b[39;00m \u001b[38;5;28mcls\u001b[39m(levels, codes, sortorder\u001b[38;5;241m=\u001b[39msortorder, names\u001b[38;5;241m=\u001b[39mnames)\n",
      "File \u001b[0;32m/opt/conda/lib/python3.11/site-packages/pandas/core/reshape/util.py:63\u001b[0m, in \u001b[0;36mcartesian_product\u001b[0;34m(X)\u001b[0m\n\u001b[1;32m     59\u001b[0m     b \u001b[38;5;241m=\u001b[39m np\u001b[38;5;241m.\u001b[39mzeros_like(cumprodX)\n\u001b[1;32m     61\u001b[0m \u001b[38;5;66;03m# error: Argument of type \"int_\" cannot be assigned to parameter \"num\" of\u001b[39;00m\n\u001b[1;32m     62\u001b[0m \u001b[38;5;66;03m# type \"int\" in function \"tile_compat\"\u001b[39;00m\n\u001b[0;32m---> 63\u001b[0m \u001b[38;5;28;01mreturn\u001b[39;00m \u001b[43m[\u001b[49m\n\u001b[1;32m     64\u001b[0m \u001b[43m    \u001b[49m\u001b[43mtile_compat\u001b[49m\u001b[43m(\u001b[49m\n\u001b[1;32m     65\u001b[0m \u001b[43m        \u001b[49m\u001b[43mnp\u001b[49m\u001b[38;5;241;43m.\u001b[39;49m\u001b[43mrepeat\u001b[49m\u001b[43m(\u001b[49m\u001b[43mx\u001b[49m\u001b[43m,\u001b[49m\u001b[43m \u001b[49m\u001b[43mb\u001b[49m\u001b[43m[\u001b[49m\u001b[43mi\u001b[49m\u001b[43m]\u001b[49m\u001b[43m)\u001b[49m\u001b[43m,\u001b[49m\n\u001b[1;32m     66\u001b[0m \u001b[43m        \u001b[49m\u001b[43mnp\u001b[49m\u001b[38;5;241;43m.\u001b[39;49m\u001b[43mprod\u001b[49m\u001b[43m(\u001b[49m\u001b[43ma\u001b[49m\u001b[43m[\u001b[49m\u001b[43mi\u001b[49m\u001b[43m]\u001b[49m\u001b[43m)\u001b[49m\u001b[43m,\u001b[49m\n\u001b[1;32m     67\u001b[0m \u001b[43m    \u001b[49m\u001b[43m)\u001b[49m\n\u001b[1;32m     68\u001b[0m \u001b[43m    \u001b[49m\u001b[38;5;28;43;01mfor\u001b[39;49;00m\u001b[43m \u001b[49m\u001b[43mi\u001b[49m\u001b[43m,\u001b[49m\u001b[43m \u001b[49m\u001b[43mx\u001b[49m\u001b[43m \u001b[49m\u001b[38;5;129;43;01min\u001b[39;49;00m\u001b[43m \u001b[49m\u001b[38;5;28;43menumerate\u001b[39;49m\u001b[43m(\u001b[49m\u001b[43mX\u001b[49m\u001b[43m)\u001b[49m\n\u001b[1;32m     69\u001b[0m \u001b[43m\u001b[49m\u001b[43m]\u001b[49m\n",
      "File \u001b[0;32m/opt/conda/lib/python3.11/site-packages/pandas/core/reshape/util.py:65\u001b[0m, in \u001b[0;36m<listcomp>\u001b[0;34m(.0)\u001b[0m\n\u001b[1;32m     59\u001b[0m     b \u001b[38;5;241m=\u001b[39m np\u001b[38;5;241m.\u001b[39mzeros_like(cumprodX)\n\u001b[1;32m     61\u001b[0m \u001b[38;5;66;03m# error: Argument of type \"int_\" cannot be assigned to parameter \"num\" of\u001b[39;00m\n\u001b[1;32m     62\u001b[0m \u001b[38;5;66;03m# type \"int\" in function \"tile_compat\"\u001b[39;00m\n\u001b[1;32m     63\u001b[0m \u001b[38;5;28;01mreturn\u001b[39;00m [\n\u001b[1;32m     64\u001b[0m     tile_compat(\n\u001b[0;32m---> 65\u001b[0m         \u001b[43mnp\u001b[49m\u001b[38;5;241;43m.\u001b[39;49m\u001b[43mrepeat\u001b[49m\u001b[43m(\u001b[49m\u001b[43mx\u001b[49m\u001b[43m,\u001b[49m\u001b[43m \u001b[49m\u001b[43mb\u001b[49m\u001b[43m[\u001b[49m\u001b[43mi\u001b[49m\u001b[43m]\u001b[49m\u001b[43m)\u001b[49m,\n\u001b[1;32m     66\u001b[0m         np\u001b[38;5;241m.\u001b[39mprod(a[i]),\n\u001b[1;32m     67\u001b[0m     )\n\u001b[1;32m     68\u001b[0m     \u001b[38;5;28;01mfor\u001b[39;00m i, x \u001b[38;5;129;01min\u001b[39;00m \u001b[38;5;28menumerate\u001b[39m(X)\n\u001b[1;32m     69\u001b[0m ]\n",
      "File \u001b[0;32m/opt/conda/lib/python3.11/site-packages/numpy/_core/fromnumeric.py:480\u001b[0m, in \u001b[0;36mrepeat\u001b[0;34m(a, repeats, axis)\u001b[0m\n\u001b[1;32m    437\u001b[0m \u001b[38;5;129m@array_function_dispatch\u001b[39m(_repeat_dispatcher)\n\u001b[1;32m    438\u001b[0m \u001b[38;5;28;01mdef\u001b[39;00m \u001b[38;5;21mrepeat\u001b[39m(a, repeats, axis\u001b[38;5;241m=\u001b[39m\u001b[38;5;28;01mNone\u001b[39;00m):\n\u001b[1;32m    439\u001b[0m \u001b[38;5;250m    \u001b[39m\u001b[38;5;124;03m\"\"\"\u001b[39;00m\n\u001b[1;32m    440\u001b[0m \u001b[38;5;124;03m    Repeat each element of an array after themselves\u001b[39;00m\n\u001b[1;32m    441\u001b[0m \n\u001b[0;32m   (...)\u001b[0m\n\u001b[1;32m    478\u001b[0m \n\u001b[1;32m    479\u001b[0m \u001b[38;5;124;03m    \"\"\"\u001b[39;00m\n\u001b[0;32m--> 480\u001b[0m     \u001b[38;5;28;01mreturn\u001b[39;00m \u001b[43m_wrapfunc\u001b[49m\u001b[43m(\u001b[49m\u001b[43ma\u001b[49m\u001b[43m,\u001b[49m\u001b[43m \u001b[49m\u001b[38;5;124;43m'\u001b[39;49m\u001b[38;5;124;43mrepeat\u001b[39;49m\u001b[38;5;124;43m'\u001b[39;49m\u001b[43m,\u001b[49m\u001b[43m \u001b[49m\u001b[43mrepeats\u001b[49m\u001b[43m,\u001b[49m\u001b[43m \u001b[49m\u001b[43maxis\u001b[49m\u001b[38;5;241;43m=\u001b[39;49m\u001b[43maxis\u001b[49m\u001b[43m)\u001b[49m\n",
      "File \u001b[0;32m/opt/conda/lib/python3.11/site-packages/numpy/_core/fromnumeric.py:57\u001b[0m, in \u001b[0;36m_wrapfunc\u001b[0;34m(obj, method, *args, **kwds)\u001b[0m\n\u001b[1;32m     54\u001b[0m     \u001b[38;5;28;01mreturn\u001b[39;00m _wrapit(obj, method, \u001b[38;5;241m*\u001b[39margs, \u001b[38;5;241m*\u001b[39m\u001b[38;5;241m*\u001b[39mkwds)\n\u001b[1;32m     56\u001b[0m \u001b[38;5;28;01mtry\u001b[39;00m:\n\u001b[0;32m---> 57\u001b[0m     \u001b[38;5;28;01mreturn\u001b[39;00m \u001b[43mbound\u001b[49m\u001b[43m(\u001b[49m\u001b[38;5;241;43m*\u001b[39;49m\u001b[43margs\u001b[49m\u001b[43m,\u001b[49m\u001b[43m \u001b[49m\u001b[38;5;241;43m*\u001b[39;49m\u001b[38;5;241;43m*\u001b[39;49m\u001b[43mkwds\u001b[49m\u001b[43m)\u001b[49m\n\u001b[1;32m     58\u001b[0m \u001b[38;5;28;01mexcept\u001b[39;00m \u001b[38;5;167;01mTypeError\u001b[39;00m:\n\u001b[1;32m     59\u001b[0m     \u001b[38;5;66;03m# A TypeError occurs if the object does have such a method in its\u001b[39;00m\n\u001b[1;32m     60\u001b[0m     \u001b[38;5;66;03m# class, but its signature is not identical to that of NumPy's. This\u001b[39;00m\n\u001b[0;32m   (...)\u001b[0m\n\u001b[1;32m     64\u001b[0m     \u001b[38;5;66;03m# Call _wrapit from within the except clause to ensure a potential\u001b[39;00m\n\u001b[1;32m     65\u001b[0m     \u001b[38;5;66;03m# exception has a traceback chain.\u001b[39;00m\n\u001b[1;32m     66\u001b[0m     \u001b[38;5;28;01mreturn\u001b[39;00m _wrapit(obj, method, \u001b[38;5;241m*\u001b[39margs, \u001b[38;5;241m*\u001b[39m\u001b[38;5;241m*\u001b[39mkwds)\n",
      "\u001b[0;31mMemoryError\u001b[0m: Unable to allocate 25.7 GiB for an array with shape (27597898800,) and data type int8"
     ]
    }
   ],
   "source": [
    "at_uses_df_filled = at_uses_df.copy()\n",
    "at_uses_df_filled[\"count\"] = at_uses_df[\"count\"].fillna(0)\n",
    "daily_df = at_uses_df_filled.groupby(by=[\"site_name\", \"site_id\", \"flow_id\", \"flow_name\", \"user_type\", \"direction\", \"year\", \"month\", \"day\"]).sum()"
   ]
  },
  {
   "cell_type": "code",
   "execution_count": 82,
   "id": "4665f295-96c6-472b-afd6-b123861b9199",
   "metadata": {},
   "outputs": [],
   "source": [
    "hourly_df = at_uses_df_filled.groupby(by=[\"site_name\", \"site_id\", \"flow-id\", \"flow_name\", \"user_type\", \"direction\", \"year\", \"month\", \"hour\"]).sum()"
   ]
  },
  {
   "cell_type": "code",
   "execution_count": 21,
   "id": "2138a85b-7e73-42c9-a20f-31cf68255598",
   "metadata": {},
   "outputs": [
    {
     "ename": "KeyError",
     "evalue": "'site_name'",
     "output_type": "error",
     "traceback": [
      "\u001b[0;31m---------------------------------------------------------------------------\u001b[0m",
      "\u001b[0;31mKeyError\u001b[0m                                  Traceback (most recent call last)",
      "Cell \u001b[0;32mIn[21], line 1\u001b[0m\n\u001b[0;32m----> 1\u001b[0m site_df \u001b[38;5;241m=\u001b[39m \u001b[43mat_uses_df_filled\u001b[49m\u001b[38;5;241;43m.\u001b[39;49m\u001b[43mgroupby\u001b[49m\u001b[43m(\u001b[49m\u001b[43m[\u001b[49m\u001b[38;5;124;43m\"\u001b[39;49m\u001b[38;5;124;43msite_name\u001b[39;49m\u001b[38;5;124;43m\"\u001b[39;49m\u001b[43m]\u001b[49m\u001b[43m)\u001b[49m\u001b[38;5;241m.\u001b[39msum()\n",
      "File \u001b[0;32m/opt/conda/lib/python3.11/site-packages/pandas/core/series.py:2247\u001b[0m, in \u001b[0;36mSeries.groupby\u001b[0;34m(self, by, axis, level, as_index, sort, group_keys, observed, dropna)\u001b[0m\n\u001b[1;32m   2244\u001b[0m     \u001b[38;5;28;01mraise\u001b[39;00m \u001b[38;5;167;01mTypeError\u001b[39;00m(\u001b[38;5;124m\"\u001b[39m\u001b[38;5;124mas_index=False only valid with DataFrame\u001b[39m\u001b[38;5;124m\"\u001b[39m)\n\u001b[1;32m   2245\u001b[0m axis \u001b[38;5;241m=\u001b[39m \u001b[38;5;28mself\u001b[39m\u001b[38;5;241m.\u001b[39m_get_axis_number(axis)\n\u001b[0;32m-> 2247\u001b[0m \u001b[38;5;28;01mreturn\u001b[39;00m \u001b[43mSeriesGroupBy\u001b[49m\u001b[43m(\u001b[49m\n\u001b[1;32m   2248\u001b[0m \u001b[43m    \u001b[49m\u001b[43mobj\u001b[49m\u001b[38;5;241;43m=\u001b[39;49m\u001b[38;5;28;43mself\u001b[39;49m\u001b[43m,\u001b[49m\n\u001b[1;32m   2249\u001b[0m \u001b[43m    \u001b[49m\u001b[43mkeys\u001b[49m\u001b[38;5;241;43m=\u001b[39;49m\u001b[43mby\u001b[49m\u001b[43m,\u001b[49m\n\u001b[1;32m   2250\u001b[0m \u001b[43m    \u001b[49m\u001b[43maxis\u001b[49m\u001b[38;5;241;43m=\u001b[39;49m\u001b[43maxis\u001b[49m\u001b[43m,\u001b[49m\n\u001b[1;32m   2251\u001b[0m \u001b[43m    \u001b[49m\u001b[43mlevel\u001b[49m\u001b[38;5;241;43m=\u001b[39;49m\u001b[43mlevel\u001b[49m\u001b[43m,\u001b[49m\n\u001b[1;32m   2252\u001b[0m \u001b[43m    \u001b[49m\u001b[43mas_index\u001b[49m\u001b[38;5;241;43m=\u001b[39;49m\u001b[43mas_index\u001b[49m\u001b[43m,\u001b[49m\n\u001b[1;32m   2253\u001b[0m \u001b[43m    \u001b[49m\u001b[43msort\u001b[49m\u001b[38;5;241;43m=\u001b[39;49m\u001b[43msort\u001b[49m\u001b[43m,\u001b[49m\n\u001b[1;32m   2254\u001b[0m \u001b[43m    \u001b[49m\u001b[43mgroup_keys\u001b[49m\u001b[38;5;241;43m=\u001b[39;49m\u001b[43mgroup_keys\u001b[49m\u001b[43m,\u001b[49m\n\u001b[1;32m   2255\u001b[0m \u001b[43m    \u001b[49m\u001b[43mobserved\u001b[49m\u001b[38;5;241;43m=\u001b[39;49m\u001b[43mobserved\u001b[49m\u001b[43m,\u001b[49m\n\u001b[1;32m   2256\u001b[0m \u001b[43m    \u001b[49m\u001b[43mdropna\u001b[49m\u001b[38;5;241;43m=\u001b[39;49m\u001b[43mdropna\u001b[49m\u001b[43m,\u001b[49m\n\u001b[1;32m   2257\u001b[0m \u001b[43m\u001b[49m\u001b[43m)\u001b[49m\n",
      "File \u001b[0;32m/opt/conda/lib/python3.11/site-packages/pandas/core/groupby/groupby.py:1329\u001b[0m, in \u001b[0;36mGroupBy.__init__\u001b[0;34m(self, obj, keys, axis, level, grouper, exclusions, selection, as_index, sort, group_keys, observed, dropna)\u001b[0m\n\u001b[1;32m   1326\u001b[0m \u001b[38;5;28mself\u001b[39m\u001b[38;5;241m.\u001b[39mdropna \u001b[38;5;241m=\u001b[39m dropna\n\u001b[1;32m   1328\u001b[0m \u001b[38;5;28;01mif\u001b[39;00m grouper \u001b[38;5;129;01mis\u001b[39;00m \u001b[38;5;28;01mNone\u001b[39;00m:\n\u001b[0;32m-> 1329\u001b[0m     grouper, exclusions, obj \u001b[38;5;241m=\u001b[39m \u001b[43mget_grouper\u001b[49m\u001b[43m(\u001b[49m\n\u001b[1;32m   1330\u001b[0m \u001b[43m        \u001b[49m\u001b[43mobj\u001b[49m\u001b[43m,\u001b[49m\n\u001b[1;32m   1331\u001b[0m \u001b[43m        \u001b[49m\u001b[43mkeys\u001b[49m\u001b[43m,\u001b[49m\n\u001b[1;32m   1332\u001b[0m \u001b[43m        \u001b[49m\u001b[43maxis\u001b[49m\u001b[38;5;241;43m=\u001b[39;49m\u001b[43maxis\u001b[49m\u001b[43m,\u001b[49m\n\u001b[1;32m   1333\u001b[0m \u001b[43m        \u001b[49m\u001b[43mlevel\u001b[49m\u001b[38;5;241;43m=\u001b[39;49m\u001b[43mlevel\u001b[49m\u001b[43m,\u001b[49m\n\u001b[1;32m   1334\u001b[0m \u001b[43m        \u001b[49m\u001b[43msort\u001b[49m\u001b[38;5;241;43m=\u001b[39;49m\u001b[43msort\u001b[49m\u001b[43m,\u001b[49m\n\u001b[1;32m   1335\u001b[0m \u001b[43m        \u001b[49m\u001b[43mobserved\u001b[49m\u001b[38;5;241;43m=\u001b[39;49m\u001b[38;5;28;43;01mFalse\u001b[39;49;00m\u001b[43m \u001b[49m\u001b[38;5;28;43;01mif\u001b[39;49;00m\u001b[43m \u001b[49m\u001b[43mobserved\u001b[49m\u001b[43m \u001b[49m\u001b[38;5;129;43;01mis\u001b[39;49;00m\u001b[43m \u001b[49m\u001b[43mlib\u001b[49m\u001b[38;5;241;43m.\u001b[39;49m\u001b[43mno_default\u001b[49m\u001b[43m \u001b[49m\u001b[38;5;28;43;01melse\u001b[39;49;00m\u001b[43m \u001b[49m\u001b[43mobserved\u001b[49m\u001b[43m,\u001b[49m\n\u001b[1;32m   1336\u001b[0m \u001b[43m        \u001b[49m\u001b[43mdropna\u001b[49m\u001b[38;5;241;43m=\u001b[39;49m\u001b[38;5;28;43mself\u001b[39;49m\u001b[38;5;241;43m.\u001b[39;49m\u001b[43mdropna\u001b[49m\u001b[43m,\u001b[49m\n\u001b[1;32m   1337\u001b[0m \u001b[43m    \u001b[49m\u001b[43m)\u001b[49m\n\u001b[1;32m   1339\u001b[0m \u001b[38;5;28;01mif\u001b[39;00m observed \u001b[38;5;129;01mis\u001b[39;00m lib\u001b[38;5;241m.\u001b[39mno_default:\n\u001b[1;32m   1340\u001b[0m     \u001b[38;5;28;01mif\u001b[39;00m \u001b[38;5;28many\u001b[39m(ping\u001b[38;5;241m.\u001b[39m_passed_categorical \u001b[38;5;28;01mfor\u001b[39;00m ping \u001b[38;5;129;01min\u001b[39;00m grouper\u001b[38;5;241m.\u001b[39mgroupings):\n",
      "File \u001b[0;32m/opt/conda/lib/python3.11/site-packages/pandas/core/groupby/grouper.py:1043\u001b[0m, in \u001b[0;36mget_grouper\u001b[0;34m(obj, key, axis, level, sort, observed, validate, dropna)\u001b[0m\n\u001b[1;32m   1041\u001b[0m         in_axis, level, gpr \u001b[38;5;241m=\u001b[39m \u001b[38;5;28;01mFalse\u001b[39;00m, gpr, \u001b[38;5;28;01mNone\u001b[39;00m\n\u001b[1;32m   1042\u001b[0m     \u001b[38;5;28;01melse\u001b[39;00m:\n\u001b[0;32m-> 1043\u001b[0m         \u001b[38;5;28;01mraise\u001b[39;00m \u001b[38;5;167;01mKeyError\u001b[39;00m(gpr)\n\u001b[1;32m   1044\u001b[0m \u001b[38;5;28;01melif\u001b[39;00m \u001b[38;5;28misinstance\u001b[39m(gpr, Grouper) \u001b[38;5;129;01mand\u001b[39;00m gpr\u001b[38;5;241m.\u001b[39mkey \u001b[38;5;129;01mis\u001b[39;00m \u001b[38;5;129;01mnot\u001b[39;00m \u001b[38;5;28;01mNone\u001b[39;00m:\n\u001b[1;32m   1045\u001b[0m     \u001b[38;5;66;03m# Add key to exclusions\u001b[39;00m\n\u001b[1;32m   1046\u001b[0m     exclusions\u001b[38;5;241m.\u001b[39madd(gpr\u001b[38;5;241m.\u001b[39mkey)\n",
      "\u001b[0;31mKeyError\u001b[0m: 'site_name'"
     ]
    }
   ],
   "source": [
    "site_df = at_uses_df_filled.groupby([\"site_name\"]).sum()"
   ]
  }
 ],
 "metadata": {
  "kernelspec": {
   "display_name": "Python 3 (ipykernel)",
   "language": "python",
   "name": "python3"
  },
  "language_info": {
   "codemirror_mode": {
    "name": "ipython",
    "version": 3
   },
   "file_extension": ".py",
   "mimetype": "text/x-python",
   "name": "python",
   "nbconvert_exporter": "python",
   "pygments_lexer": "ipython3",
   "version": "3.11.10"
  }
 },
 "nbformat": 4,
 "nbformat_minor": 5
}
